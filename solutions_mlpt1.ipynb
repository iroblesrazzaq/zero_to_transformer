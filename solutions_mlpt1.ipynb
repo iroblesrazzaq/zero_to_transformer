{
 "cells": [
  {
   "cell_type": "code",
   "execution_count": 3,
   "metadata": {},
   "outputs": [],
   "source": [
    "import torch\n",
    "import torch.nn as nn\n",
    "import torch.optim as optim\n",
    "import torchvision\n",
    "import torchvision.transforms as transforms\n",
    "import matplotlib.pyplot as plt\n",
    "import numpy as np"
   ]
  },
  {
   "cell_type": "markdown",
   "metadata": {},
   "source": [
    "# MLP Assignment - Tier 1 (Assisted Implementation)\n",
    "# Zero to Transformer - Week 1\n"
   ]
  },
  {
   "cell_type": "code",
   "execution_count": 4,
   "metadata": {},
   "outputs": [
    {
     "name": "stdout",
     "output_type": "stream",
     "text": [
      "Using device: cpu\n"
     ]
    }
   ],
   "source": [
    "# always use this torch code to use gpu if possible\n",
    "device = torch.device('cuda' if torch.cuda.is_available() else 'cpu')\n",
    "print(f\"Using device: {device}\")\n"
   ]
  },
  {
   "cell_type": "markdown",
   "metadata": {},
   "source": [
    "# Load and preprocess the MNIST dataset\n"
   ]
  },
  {
   "cell_type": "code",
   "execution_count": 5,
   "metadata": {},
   "outputs": [],
   "source": [
    "transform = transforms.Compose([\n",
    "    transforms.ToTensor(),\n",
    "    transforms.Normalize((0.1307,), (0.3081,)) # normalize to mean, std of MNIST\n",
    "])\n",
    "\n",
    "# Load the training dataset\n",
    "train_dataset = torchvision.datasets.MNIST(\n",
    "    root='./data',\n",
    "    train=True,\n",
    "    transform=transform,\n",
    "    download=True\n",
    ")\n",
    "\n",
    "# Load the test dataset\n",
    "test_dataset = torchvision.datasets.MNIST(\n",
    "    root='./data',\n",
    "    train=False,\n",
    "    transform=transform,\n",
    "    download=True\n",
    ")"
   ]
  },
  {
   "cell_type": "code",
   "execution_count": 6,
   "metadata": {},
   "outputs": [],
   "source": [
    "batch_size = 64\n",
    "train_loader = torch.utils.data.DataLoader(\n",
    "    dataset=train_dataset,\n",
    "    batch_size=batch_size,\n",
    "    shuffle=True\n",
    ")\n",
    "\n",
    "test_loader = torch.utils.data.DataLoader(\n",
    "    dataset=test_dataset,\n",
    "    batch_size=batch_size,\n",
    "    shuffle=False\n",
    ")"
   ]
  },
  {
   "cell_type": "code",
   "execution_count": 7,
   "metadata": {},
   "outputs": [
    {
     "data": {
      "image/png": "[encoded data removed]",
      "text/plain": [
       "<Figure size 1000x400 with 5 Axes>"
      ]
     },
     "metadata": {},
     "output_type": "display_data"
    }
   ],
   "source": [
    "def visualize_samples(dataloader, num_samples=5):\n",
    "    \"\"\"Display some sample images from the dataset\"\"\"\n",
    "    examples = iter(dataloader)\n",
    "    images, labels = next(examples)\n",
    "    \n",
    "    plt.figure(figsize=(10, 4))\n",
    "    for i in range(num_samples):\n",
    "        plt.subplot(1, num_samples, i+1)\n",
    "        plt.imshow(images[i][0].numpy(), cmap='gray')\n",
    "        plt.title(f'Label: {labels[i].item()}')\n",
    "        plt.axis('off')\n",
    "    plt.tight_layout()\n",
    "    plt.show()\n",
    "\n",
    "visualize_samples(train_loader) # comment out if don't want to visualize"
   ]
  },
  {
   "cell_type": "markdown",
   "metadata": {},
   "source": [
    "# Define the Multi-Layer Perceptron (MLP) model class"
   ]
  },
  {
   "cell_type": "code",
   "execution_count": 8,
   "metadata": {},
   "outputs": [],
   "source": [
    "class MLP(nn.Module):\n",
    "    def __init__(self, input_size, hidden_size1, hidden_size2, num_classes):\n",
    "        \"\"\"\n",
    "        Initialize the MLP model.\n",
    "        \n",
    "        Args:\n",
    "            input_size (int): Size of the input features\n",
    "            hidden_size1 (int): Size of the first hidden layer\n",
    "            hidden_size2 (int): Size of the second hidden layer\n",
    "            num_classes (int): Number of output classes\n",
    "        \"\"\"\n",
    "        super(MLP, self).__init__()\n",
    "        \n",
    "        # TODO: Define the layers of the network\n",
    "        # Layer 1: Input layer to first hidden layer with ReLU activation\n",
    "        self.layer1 = nn.Sequential(\n",
    "            # YOUR CODE HERE: Create a linear layer from input_size to hidden_size1\n",
    "            nn.Linear(input_size, hidden_size1),\n",
    "            # YOUR CODE HERE: Add a ReLU activation function\n",
    "            nn.ReLU()\n",
    "        )\n",
    "        \n",
    "        # Layer 2: First hidden layer to second hidden layer with ReLU activation\n",
    "        self.layer2 = nn.Sequential(\n",
    "            nn.Linear(hidden_size1, hidden_size2),\n",
    "            nn.ReLU()\n",
    "            # YOUR CODE HERE: Add a ReLU activation function\n",
    "        )\n",
    "        \n",
    "        # Layer 3: Second hidden layer to output layer (no activation, will be applied in loss function)\n",
    "        self.layer3 = nn.Linear(hidden_size2, num_classes)\n",
    "        # YOUR CODE HERE: Create a linear layer from hidden_size2 to num_classes\n",
    "        \n",
    "    def forward(self, x):\n",
    "        \"\"\"\n",
    "        Forward pass through the network.\n",
    "        \n",
    "        Args:\n",
    "            x (torch.Tensor): Input tensor of shape [batch_size, input_size]\n",
    "            \n",
    "        Returns:\n",
    "            torch.Tensor: Output tensor of shape [batch_size, num_classes]\n",
    "        \"\"\"\n",
    "        # TODO: Implement the forward pass\n",
    "        # Flatten the input image\n",
    "        # YOUR CODE HERE: Reshape x from [batch_size, 1, 28, 28] to [batch_size, 784]\n",
    "        # can use torch.flatten, reshape, or view\n",
    "\n",
    "        batch_size, _, height, width = x.shape\n",
    "\n",
    "        reshaped = x.reshape(batch_size, height * width)\n",
    "        viewed = x.view(batch_size, height * width)\n",
    "        flattened = torch.flatten(x, start_dim=1)\n",
    "\n",
    "\n",
    "        l1 = self.layer1(viewed)\n",
    "        l2 = self.layer2(l1)\n",
    "        out = self.layer3(l2)\n",
    "        \n",
    "        return out"
   ]
  },
  {
   "cell_type": "markdown",
   "metadata": {},
   "source": [
    "# Hyperparameters\n"
   ]
  },
  {
   "cell_type": "code",
   "execution_count": 9,
   "metadata": {},
   "outputs": [],
   "source": [
    "\n",
    "input_size = 28 * 28  # MNIST images are 28x28 pixels\n",
    "hidden_size1 = 256\n",
    "hidden_size2 = 128\n",
    "num_classes = 10      # 10 digits (0-9)\n",
    "num_epochs = 5\n",
    "learning_rate = 0.001"
   ]
  },
  {
   "cell_type": "code",
   "execution_count": 10,
   "metadata": {},
   "outputs": [],
   "source": [
    "model = MLP(input_size, hidden_size1, hidden_size2, num_classes).to(device)\n",
    "\n",
    "# Loss function and optimizer\n",
    "criterion = nn.CrossEntropyLoss()\n",
    "optimizer = optim.Adam(model.parameters(), lr=learning_rate)\n"
   ]
  },
  {
   "cell_type": "code",
   "execution_count": 11,
   "metadata": {},
   "outputs": [],
   "source": [
    "def train_model(model, train_loader, criterion, optimizer, num_epochs):\n",
    "    \"\"\"\n",
    "    Train the model.\n",
    "    \n",
    "    Args:\n",
    "        model (nn.Module): The neural network model\n",
    "        train_loader (DataLoader): DataLoader for training data\n",
    "        criterion: Loss function\n",
    "        optimizer: Optimization algorithm\n",
    "        num_epochs (int): Number of training epochs\n",
    "    \n",
    "    Returns:\n",
    "        list: Training losses for each epoch\n",
    "    \"\"\"\n",
    "    model.train()  # Set the model to training mode\n",
    "    train_losses = []\n",
    "    \n",
    "    for epoch in range(num_epochs):\n",
    "        running_loss = 0.0\n",
    "        \n",
    "        for i, (images, labels) in enumerate(train_loader):\n",
    "            # Move tensors to the configured device\n",
    "            images = images.to(device)\n",
    "            labels = labels.to(device)\n",
    "            \n",
    "            # TODO: Implement the training step\n",
    "            # YOUR CODE HERE: Clear the gradients\n",
    "            optimizer.zero_grad()\n",
    "            \n",
    "            # Forward pass\n",
    "            # YOUR CODE HERE: Get the outputs from the model\n",
    "            output = model(images)\n",
    "            \n",
    "            # Calculate loss\n",
    "            # YOUR CODE HERE: Calculate the loss using criterion, outputs, and labels\n",
    "            loss = criterion(output, labels)\n",
    "\n",
    "            # Backward pass and optimize\n",
    "            \n",
    "            # YOUR CODE HERE: Update the parameters\n",
    "            loss.backward() # Backpropagate the loss\n",
    "            optimizer.step()\n",
    "            running_loss += loss.item()\n",
    "            \n",
    "            # Print statistics every 100 batches\n",
    "            if (i+1) % 100 == 0:\n",
    "                print(f'Epoch [{epoch+1}/{num_epochs}], Step [{i+1}/{len(train_loader)}], Loss: {loss.item():.4f}')\n",
    "        \n",
    "        # Record the average loss for this epoch\n",
    "        epoch_loss = running_loss / len(train_loader)\n",
    "        train_losses.append(epoch_loss)\n",
    "        print(f'Epoch [{epoch+1}/{num_epochs}], Loss: {epoch_loss:.4f}')\n",
    "    \n",
    "    return train_losses"
   ]
  },
  {
   "cell_type": "code",
   "execution_count": 12,
   "metadata": {},
   "outputs": [
    {
     "name": "stdout",
     "output_type": "stream",
     "text": [
      "Epoch [1/5], Step [100/938], Loss: 0.3008\n",
      "Epoch [1/5], Step [200/938], Loss: 0.2047\n",
      "Epoch [1/5], Step [300/938], Loss: 0.3143\n",
      "Epoch [1/5], Step [400/938], Loss: 0.3284\n",
      "Epoch [1/5], Step [500/938], Loss: 0.0904\n",
      "Epoch [1/5], Step [600/938], Loss: 0.0334\n",
      "Epoch [1/5], Step [700/938], Loss: 0.1988\n",
      "Epoch [1/5], Step [800/938], Loss: 0.1536\n",
      "Epoch [1/5], Step [900/938], Loss: 0.1193\n",
      "Epoch [1/5], Loss: 0.2280\n",
      "Epoch [2/5], Step [100/938], Loss: 0.0346\n",
      "Epoch [2/5], Step [200/938], Loss: 0.0774\n",
      "Epoch [2/5], Step [300/938], Loss: 0.0808\n",
      "Epoch [2/5], Step [400/938], Loss: 0.1244\n",
      "Epoch [2/5], Step [500/938], Loss: 0.1814\n",
      "Epoch [2/5], Step [600/938], Loss: 0.0147\n",
      "Epoch [2/5], Step [700/938], Loss: 0.0419\n",
      "Epoch [2/5], Step [800/938], Loss: 0.1302\n",
      "Epoch [2/5], Step [900/938], Loss: 0.0178\n",
      "Epoch [2/5], Loss: 0.0910\n",
      "Epoch [3/5], Step [100/938], Loss: 0.0063\n",
      "Epoch [3/5], Step [200/938], Loss: 0.0721\n",
      "Epoch [3/5], Step [300/938], Loss: 0.0921\n",
      "Epoch [3/5], Step [400/938], Loss: 0.0892\n",
      "Epoch [3/5], Step [500/938], Loss: 0.0500\n",
      "Epoch [3/5], Step [600/938], Loss: 0.0165\n",
      "Epoch [3/5], Step [700/938], Loss: 0.0585\n",
      "Epoch [3/5], Step [800/938], Loss: 0.1048\n",
      "Epoch [3/5], Step [900/938], Loss: 0.0389\n",
      "Epoch [3/5], Loss: 0.0647\n",
      "Epoch [4/5], Step [100/938], Loss: 0.0163\n",
      "Epoch [4/5], Step [200/938], Loss: 0.0964\n",
      "Epoch [4/5], Step [300/938], Loss: 0.0596\n",
      "Epoch [4/5], Step [400/938], Loss: 0.0093\n",
      "Epoch [4/5], Step [500/938], Loss: 0.0633\n",
      "Epoch [4/5], Step [600/938], Loss: 0.0648\n",
      "Epoch [4/5], Step [700/938], Loss: 0.0798\n",
      "Epoch [4/5], Step [800/938], Loss: 0.0045\n",
      "Epoch [4/5], Step [900/938], Loss: 0.0657\n",
      "Epoch [4/5], Loss: 0.0481\n",
      "Epoch [5/5], Step [100/938], Loss: 0.0035\n",
      "Epoch [5/5], Step [200/938], Loss: 0.0727\n",
      "Epoch [5/5], Step [300/938], Loss: 0.0070\n",
      "Epoch [5/5], Step [400/938], Loss: 0.0376\n",
      "Epoch [5/5], Step [500/938], Loss: 0.0098\n",
      "Epoch [5/5], Step [600/938], Loss: 0.0133\n",
      "Epoch [5/5], Step [700/938], Loss: 0.2083\n",
      "Epoch [5/5], Step [800/938], Loss: 0.0481\n",
      "Epoch [5/5], Step [900/938], Loss: 0.1032\n",
      "Epoch [5/5], Loss: 0.0404\n"
     ]
    }
   ],
   "source": [
    "train_losses = train_model(model, train_loader, criterion, optimizer, num_epochs)"
   ]
  },
  {
   "cell_type": "code",
   "execution_count": 13,
   "metadata": {},
   "outputs": [],
   "source": [
    "def evaluate_model(model, test_loader):\n",
    "    \"\"\"\n",
    "    Evaluate the model on the test data.\n",
    "    \n",
    "    Args:\n",
    "        model (nn.Module): The neural network model\n",
    "        test_loader (DataLoader): DataLoader for test data\n",
    "    \n",
    "    Returns:\n",
    "        float: Accuracy of the model on the test data\n",
    "    \"\"\"\n",
    "    model.eval()  # Set the model to evaluation mode\n",
    "    correct = 0\n",
    "    total = 0\n",
    "    \n",
    "    with torch.no_grad():  # Disable gradient calculation for inference\n",
    "        for images, labels in test_loader:\n",
    "            images = images.to(device)\n",
    "            labels = labels.to(device)\n",
    "            \n",
    "            # TODO: Implement the evaluation step\n",
    "            # YOUR CODE HERE: Get the outputs from the model\n",
    "            out = model(images)\n",
    "            \n",
    "            # Get the predicted class (index with highest value)\n",
    "            # YOUR CODE HERE: Get the predicted class indices\n",
    "            _, predicted = torch.max(out.data, 1)    \n",
    "\n",
    "            total += labels.size(0)\n",
    "            correct += (predicted == labels).sum().item()\n",
    "    \n",
    "    accuracy = 100 * correct / total\n",
    "    print(f'Test Accuracy: {accuracy:.2f}%')\n",
    "    return accuracy"
   ]
  },
  {
   "cell_type": "code",
   "execution_count": 14,
   "metadata": {},
   "outputs": [
    {
     "name": "stdout",
     "output_type": "stream",
     "text": [
      "Test Accuracy: 97.59%\n"
     ]
    },
    {
     "data": {
      "text/plain": [
       "97.59"
      ]
     },
     "execution_count": 14,
     "metadata": {},
     "output_type": "execute_result"
    }
   ],
   "source": [
    "evaluate_model(model, test_loader=test_loader)"
   ]
  },
  {
   "cell_type": "code",
   "execution_count": 15,
   "metadata": {},
   "outputs": [],
   "source": [
    "def plot_loss(train_losses):\n",
    "    \"\"\"Plot the training loss over epochs\"\"\"\n",
    "    plt.figure(figsize=(10, 5))\n",
    "    plt.plot(range(1, len(train_losses) + 1), train_losses, marker='o')\n",
    "    plt.title('Training Loss vs. Epochs')\n",
    "    plt.xlabel('Epochs')\n",
    "    plt.ylabel('Loss')\n",
    "    plt.grid(True)\n",
    "    plt.show()"
   ]
  },
  {
   "cell_type": "code",
   "execution_count": 16,
   "metadata": {},
   "outputs": [
    {
     "data": {
      "image/png": "[encoded data removed]",
      "text/plain": [
       "<Figure size 1000x500 with 1 Axes>"
      ]
     },
     "metadata": {},
     "output_type": "display_data"
    }
   ],
   "source": [
    "plot_loss(train_losses)"
   ]
  },
  {
   "cell_type": "code",
   "execution_count": 17,
   "metadata": {},
   "outputs": [],
   "source": [
    "# to save model, uncomment and run:\n",
    "# torch.save(model.state_dict(), 'mlp_model.pth')\n",
    "# print(\"Model saved to 'mlp_model.pth'\")"
   ]
  }
 ],
 "metadata": {
  "kernelspec": {
   "display_name": "base_env",
   "language": "python",
   "name": "python3"
  },
  "language_info": {
   "codemirror_mode": {
    "name": "ipython",
    "version": 3
   },
   "file_extension": ".py",
   "mimetype": "text/x-python",
   "name": "python",
   "nbconvert_exporter": "python",
   "pygments_lexer": "ipython3",
   "version": "3.9.21"
  }
 },
 "nbformat": 4,
 "nbformat_minor": 2
}
