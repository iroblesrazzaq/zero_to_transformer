{
 "cells": [
  {
   "cell_type": "code",
   "execution_count": 3,
   "metadata": {},
   "outputs": [],
   "source": [
    "import torch\n",
    "import torch.nn as nn\n",
    "import torch.optim as optim\n",
    "import torchvision\n",
    "import torchvision.transforms as transforms\n",
    "import matplotlib.pyplot as plt\n",
    "import numpy as np"
   ]
  },
  {
   "cell_type": "markdown",
   "metadata": {},
   "source": [
    "# MLP Assignment - Tier 1 (Assisted Implementation)\n",
    "# Zero to Transformer - Week 1\n"
   ]
  },
  {
   "cell_type": "code",
   "execution_count": 4,
   "metadata": {},
   "outputs": [
    {
     "name": "stdout",
     "output_type": "stream",
     "text": [
      "Using device: cpu\n"
     ]
    }
   ],
   "source": [
    "# always use this torch code to use gpu if possible\n",
    "device = torch.device('cuda' if torch.cuda.is_available() else 'cpu')\n",
    "print(f\"Using device: {device}\")\n"
   ]
  },
  {
   "cell_type": "markdown",
   "metadata": {},
   "source": [
    "# Load and preprocess the MNIST dataset\n"
   ]
  },
  {
   "cell_type": "code",
   "execution_count": 5,
   "metadata": {},
   "outputs": [],
   "source": [
    "transform = transforms.Compose([\n",
    "    transforms.ToTensor(),\n",
    "    transforms.Normalize((0.1307,), (0.3081,)) # normalize to mean, std of MNIST\n",
    "])\n",
    "\n",
    "# Load the training dataset\n",
    "train_dataset = torchvision.datasets.MNIST(\n",
    "    root='./data',\n",
    "    train=True,\n",
    "    transform=transform,\n",
    "    download=True\n",
    ")\n",
    "\n",
    "# Load the test dataset\n",
    "test_dataset = torchvision.datasets.MNIST(\n",
    "    root='./data',\n",
    "    train=False,\n",
    "    transform=transform,\n",
    "    download=True\n",
    ")"
   ]
  },
  {
   "cell_type": "code",
   "execution_count": 6,
   "metadata": {},
   "outputs": [],
   "source": [
    "batch_size = 64\n",
    "train_loader = torch.utils.data.DataLoader(\n",
    "    dataset=train_dataset,\n",
    "    batch_size=batch_size,\n",
    "    shuffle=True\n",
    ")\n",
    "\n",
    "test_loader = torch.utils.data.DataLoader(\n",
    "    dataset=test_dataset,\n",
    "    batch_size=batch_size,\n",
    "    shuffle=False\n",
    ")"
   ]
  },
  {
   "cell_type": "code",
   "execution_count": 7,
   "metadata": {},
   "outputs": [
    {
     "data": {
      "image/png": "[encoded data removed]",
      "text/plain": [
       "<Figure size 1000x400 with 5 Axes>"
      ]
     },
     "metadata": {},
     "output_type": "display_data"
    }
   ],
   "source": [
    "def visualize_samples(dataloader, num_samples=5):\n",
    "    \"\"\"Display some sample images from the dataset\"\"\"\n",
    "    examples = iter(dataloader)\n",
    "    images, labels = next(examples)\n",
    "    \n",
    "    plt.figure(figsize=(10, 4))\n",
    "    for i in range(num_samples):\n",
    "        plt.subplot(1, num_samples, i+1)\n",
    "        plt.imshow(images[i][0].numpy(), cmap='gray')\n",
    "        plt.title(f'Label: {labels[i].item()}')\n",
    "        plt.axis('off')\n",
    "    plt.tight_layout()\n",
    "    plt.show()\n",
    "\n",
    "visualize_samples(train_loader) # comment out if don't want to visualize"
   ]
  },
  {
   "cell_type": "markdown",
   "metadata": {},
   "source": [
    "# Define the Multi-Layer Perceptron (MLP) model class"
   ]
  },
  {
   "cell_type": "code",
   "execution_count": 10,
   "metadata": {},
   "outputs": [],
   "source": [
    "class MLP(nn.Module):\n",
    "    def __init__(self, input_size, hidden_size1, hidden_size2, num_classes):\n",
    "        \"\"\"\n",
    "        Initialize the MLP model.\n",
    "        \n",
    "        Args:\n",
    "            input_size (int): Size of the input features\n",
    "            hidden_size1 (int): Size of the first hidden layer\n",
    "            hidden_size2 (int): Size of the second hidden layer\n",
    "            num_classes (int): Number of output classes\n",
    "        \"\"\"\n",
    "        super(MLP, self).__init__()\n",
    "        \n",
    "        # TODO: Define the layers of the network\n",
    "        # Layer 1: Input layer to first hidden layer with ReLU activation\n",
    "        self.layer1 = nn.Sequential(\n",
    "            # YOUR CODE HERE: Create a linear layer from input_size to hidden_size1\n",
    "            nn.Linear(input_size, hidden_size1),\n",
    "            # YOUR CODE HERE: Add a ReLU activation function\n",
    "            nn.ReLU()\n",
    "        )\n",
    "        \n",
    "        # Layer 2: First hidden layer to second hidden layer with ReLU activation\n",
    "        self.layer2 = nn.Sequential(\n",
    "            # YOUR CODE HERE: Create a linear layer from hidden_size1 to hidden_size2\n",
    "            # YOUR CODE HERE: Add a ReLU activation function\n",
    "        )\n",
    "        \n",
    "        # Layer 3: Second hidden layer to output layer (no activation, will be applied in loss function)\n",
    "        # YOUR CODE HERE: Create a linear layer from hidden_size2 to num_classes\n",
    "        \n",
    "    def forward(self, x):\n",
    "        \"\"\"\n",
    "        Forward pass through the network.\n",
    "        \n",
    "        Args:\n",
    "            x (torch.Tensor): Input tensor of shape [batch_size, input_size]\n",
    "            \n",
    "        Returns:\n",
    "            torch.Tensor: Output tensor of shape [batch_size, num_classes]\n",
    "        \"\"\"\n",
    "        # TODO: Implement the forward pass\n",
    "        # Flatten the input image\n",
    "        # YOUR CODE HERE: Reshape x from [batch_size, 1, 28, 28] to [batch_size, 784]\n",
    "        \n",
    "        # Pass through layer 1\n",
    "        # YOUR CODE HERE: Pass x through the first layer\n",
    "        \n",
    "        # Pass through layer 2\n",
    "        # YOUR CODE HERE: Pass x through the second layer\n",
    "        \n",
    "        # Pass through output layer\n",
    "        # YOUR CODE HERE: Pass x through the output layer\n",
    "        \n",
    "        return x"
   ]
  },
  {
   "cell_type": "markdown",
   "metadata": {},
   "source": [
    "# Hyperparameters\n"
   ]
  },
  {
   "cell_type": "code",
   "execution_count": null,
   "metadata": {},
   "outputs": [],
   "source": [
    "\n",
    "input_size = 28 * 28  # MNIST images are 28x28 pixels\n",
    "hidden_size1 = 256\n",
    "hidden_size2 = 128\n",
    "num_classes = 10      # 10 digits (0-9)\n",
    "num_epochs = 5\n",
    "learning_rate = 0.001"
   ]
  },
  {
   "cell_type": "code",
   "execution_count": 11,
   "metadata": {},
   "outputs": [],
   "source": [
    "model = MLP(input_size, hidden_size1, hidden_size2, num_classes).to(device)\n",
    "\n",
    "# Loss function and optimizer\n",
    "criterion = nn.CrossEntropyLoss()\n",
    "optimizer = optim.Adam(model.parameters(), lr=learning_rate)\n"
   ]
  },
  {
   "cell_type": "code",
   "execution_count": null,
   "metadata": {},
   "outputs": [],
   "source": [
    "def train_model(model, train_loader, criterion, optimizer, num_epochs):\n",
    "    \"\"\"\n",
    "    Train the model.\n",
    "    \n",
    "    Args:\n",
    "        model (nn.Module): The neural network model\n",
    "        train_loader (DataLoader): DataLoader for training data\n",
    "        criterion: Loss function\n",
    "        optimizer: Optimization algorithm\n",
    "        num_epochs (int): Number of training epochs\n",
    "    \n",
    "    Returns:\n",
    "        list: Training losses for each epoch\n",
    "    \"\"\"\n",
    "    model.train()  # Set the model to training mode\n",
    "    train_losses = []\n",
    "    \n",
    "    for epoch in range(num_epochs):\n",
    "        running_loss = 0.0\n",
    "        \n",
    "        for i, (images, labels) in enumerate(train_loader):\n",
    "            # Move tensors to the configured device\n",
    "            images = images.to(device)\n",
    "            labels = labels.to(device)\n",
    "            \n",
    "            # TODO: Implement the training step\n",
    "            # YOUR CODE HERE: Clear the gradients\n",
    "            \n",
    "            # Forward pass\n",
    "            # YOUR CODE HERE: Get the outputs from the model\n",
    "            \n",
    "            # Calculate loss\n",
    "            # YOUR CODE HERE: Calculate the loss using criterion, outputs, and labels\n",
    "            \n",
    "            # Backward pass and optimize\n",
    "            # YOUR CODE HERE: Backpropagate the loss\n",
    "            # YOUR CODE HERE: Update the parameters\n",
    "            \n",
    "            running_loss += loss.item()\n",
    "            \n",
    "            # Print statistics every 100 batches\n",
    "            if (i+1) % 100 == 0:\n",
    "                print(f'Epoch [{epoch+1}/{num_epochs}], Step [{i+1}/{len(train_loader)}], Loss: {loss.item():.4f}')\n",
    "        \n",
    "        # Record the average loss for this epoch\n",
    "        epoch_loss = running_loss / len(train_loader)\n",
    "        train_losses.append(epoch_loss)\n",
    "        print(f'Epoch [{epoch+1}/{num_epochs}], Loss: {epoch_loss:.4f}')\n",
    "    \n",
    "    return train_losses"
   ]
  },
  {
   "cell_type": "code",
   "execution_count": null,
   "metadata": {},
   "outputs": [],
   "source": [
    "def evaluate_model(model, test_loader):\n",
    "    \"\"\"\n",
    "    Evaluate the model on the test data.\n",
    "    \n",
    "    Args:\n",
    "        model (nn.Module): The neural network model\n",
    "        test_loader (DataLoader): DataLoader for test data\n",
    "    \n",
    "    Returns:\n",
    "        float: Accuracy of the model on the test data\n",
    "    \"\"\"\n",
    "    model.eval()  # Set the model to evaluation mode\n",
    "    correct = 0\n",
    "    total = 0\n",
    "    \n",
    "    with torch.no_grad():  # Disable gradient calculation for inference\n",
    "        for images, labels in test_loader:\n",
    "            images = images.to(device)\n",
    "            labels = labels.to(device)\n",
    "            \n",
    "            # TODO: Implement the evaluation step\n",
    "            # YOUR CODE HERE: Get the outputs from the model\n",
    "            \n",
    "            # Get the predicted class (index with highest value)\n",
    "            # YOUR CODE HERE: Get the predicted class indices\n",
    "            \n",
    "            total += labels.size(0)\n",
    "            correct += (predicted == labels).sum().item()\n",
    "    \n",
    "    accuracy = 100 * correct / total\n",
    "    print(f'Test Accuracy: {accuracy:.2f}%')\n",
    "    return accuracy"
   ]
  },
  {
   "cell_type": "code",
   "execution_count": 12,
   "metadata": {},
   "outputs": [],
   "source": [
    "def plot_loss(train_losses):\n",
    "    \"\"\"Plot the training loss over epochs\"\"\"\n",
    "    plt.figure(figsize=(10, 5))\n",
    "    plt.plot(range(1, len(train_losses) + 1), train_losses, marker='o')\n",
    "    plt.title('Training Loss vs. Epochs')\n",
    "    plt.xlabel('Epochs')\n",
    "    plt.ylabel('Loss')\n",
    "    plt.grid(True)\n",
    "    plt.show()"
   ]
  },
  {
   "cell_type": "code",
   "execution_count": null,
   "metadata": {},
   "outputs": [],
   "source": [
    "# to save model, uncomment and run:\n",
    "# torch.save(model.state_dict(), 'mlp_model.pth')\n",
    "# print(\"Model saved to 'mlp_model.pth'\")"
   ]
  }
 ],
 "metadata": {
  "kernelspec": {
   "display_name": "base_env",
   "language": "python",
   "name": "python3"
  },
  "language_info": {
   "codemirror_mode": {
    "name": "ipython",
    "version": 3
   },
   "file_extension": ".py",
   "mimetype": "text/x-python",
   "name": "python",
   "nbconvert_exporter": "python",
   "pygments_lexer": "ipython3",
   "version": "3.9.21"
  }
 },
 "nbformat": 4,
 "nbformat_minor": 2
}
